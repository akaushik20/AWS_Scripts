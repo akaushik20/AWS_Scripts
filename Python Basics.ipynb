{
  "metadata": {
    "kernelspec": {
      "name": "python",
      "display_name": "Python (Pyodide)",
      "language": "python"
    },
    "language_info": {
      "codemirror_mode": {
        "name": "python",
        "version": 3
      },
      "file_extension": ".py",
      "mimetype": "text/x-python",
      "name": "python",
      "nbconvert_exporter": "python",
      "pygments_lexer": "ipython3",
      "version": "3.8"
    }
  },
  "nbformat_minor": 4,
  "nbformat": 4,
  "cells": [
    {
      "cell_type": "code",
      "source": "import pandas as pd\npd.DataFrame()",
      "metadata": {
        "trusted": true
      },
      "outputs": [
        {
          "execution_count": 4,
          "output_type": "execute_result",
          "data": {
            "text/plain": "Empty DataFrame\nColumns: []\nIndex: []",
            "text/html": "<div>\n<style scoped>\n    .dataframe tbody tr th:only-of-type {\n        vertical-align: middle;\n    }\n\n    .dataframe tbody tr th {\n        vertical-align: top;\n    }\n\n    .dataframe thead th {\n        text-align: right;\n    }\n</style>\n<table border=\"1\" class=\"dataframe\">\n  <thead>\n    <tr style=\"text-align: right;\">\n      <th></th>\n    </tr>\n  </thead>\n  <tbody>\n  </tbody>\n</table>\n</div>"
          },
          "metadata": {}
        }
      ],
      "execution_count": 4
    },
    {
      "cell_type": "markdown",
      "source": "### Data Types",
      "metadata": {}
    },
    {
      "cell_type": "markdown",
      "source": "#### List\n#### List are mutable datatypes, which means we can change their content",
      "metadata": {}
    },
    {
      "cell_type": "code",
      "source": "### Creating an Empty List\nlst = []\nprint(\"Type: \", type(lst))\nprint(lst)",
      "metadata": {
        "trusted": true
      },
      "outputs": [
        {
          "name": "stdout",
          "text": "Type:  <class 'list'>\n[]\n",
          "output_type": "stream"
        }
      ],
      "execution_count": 57
    },
    {
      "cell_type": "code",
      "source": "### Adding values to the list\nlst.append(1)\nprint(lst)",
      "metadata": {
        "trusted": true
      },
      "outputs": [
        {
          "name": "stdout",
          "text": "[1]\n",
          "output_type": "stream"
        }
      ],
      "execution_count": 58
    },
    {
      "cell_type": "code",
      "source": "### Accessing a specific index\nprint(lst[0])",
      "metadata": {
        "trusted": true
      },
      "outputs": [
        {
          "name": "stdout",
          "text": "1\n",
          "output_type": "stream"
        }
      ],
      "execution_count": 59
    },
    {
      "cell_type": "code",
      "source": "### List with mutiple data types\nlst1 =[1, 'a', 2, True, 'test']\nprint(\"Type: \",type(lst1))\nprint(lst1)",
      "metadata": {
        "trusted": true
      },
      "outputs": [
        {
          "name": "stdout",
          "text": "Type:  <class 'list'>\n[1, 'a', 2, True, 'test']\n",
          "output_type": "stream"
        }
      ],
      "execution_count": 60
    },
    {
      "cell_type": "code",
      "source": "### Insert a specific value in a list at a specific index\nlst1 =[1, 'a', 2, True, 'test']\nlst1.insert(0,False)\nprint(lst1)",
      "metadata": {
        "trusted": true
      },
      "outputs": [
        {
          "name": "stdout",
          "text": "[False, 1, 'a', 2, True, 'test']\n",
          "output_type": "stream"
        }
      ],
      "execution_count": 61
    },
    {
      "cell_type": "code",
      "source": "### Update a specific value in a list at a specific index\nlst1[0]='Updated'\nprint(lst1)",
      "metadata": {
        "trusted": true
      },
      "outputs": [
        {
          "name": "stdout",
          "text": "['Updated', 1, 'a', 2, True, 'test']\n",
          "output_type": "stream"
        }
      ],
      "execution_count": 62
    },
    {
      "cell_type": "code",
      "source": "### Deleting a specific value\nlst1.remove('Updated')\nprint(lst1)",
      "metadata": {
        "trusted": true
      },
      "outputs": [
        {
          "name": "stdout",
          "text": "[1, 'a', 2, True, 'test']\n",
          "output_type": "stream"
        }
      ],
      "execution_count": 63
    },
    {
      "cell_type": "code",
      "source": "### Deleting the last value\nlst1.pop(1)\nprint(lst1)\n",
      "metadata": {
        "trusted": true
      },
      "outputs": [
        {
          "name": "stdout",
          "text": "[1, 2, True, 'test']\n",
          "output_type": "stream"
        }
      ],
      "execution_count": 64
    },
    {
      "cell_type": "code",
      "source": "### If we do not specify a number in pop() it will delete the last item from the list\nlst1.pop()\nprint(lst1)",
      "metadata": {
        "trusted": true
      },
      "outputs": [
        {
          "name": "stdout",
          "text": "[1, 2, True]\n",
          "output_type": "stream"
        }
      ],
      "execution_count": 65
    },
    {
      "cell_type": "markdown",
      "source": "#### Tuple\n#### Tuple are immutable datatype, which mean once created we cannot modify them",
      "metadata": {}
    },
    {
      "cell_type": "code",
      "source": "### Creating an empty Tuple\ntpl =()\nprint(\"Type: \", type(tpl))\nprint(tpl)",
      "metadata": {
        "trusted": true
      },
      "outputs": [
        {
          "name": "stdout",
          "text": "Type:  <class 'tuple'>\n()\n",
          "output_type": "stream"
        }
      ],
      "execution_count": 66
    },
    {
      "cell_type": "code",
      "source": "### Adding Values to a Tuple\ntpl=(1, 0, 2, 3)\nprint(tpl)\nprint(\"Print 0 index value in tuple:\", tpl[0])",
      "metadata": {
        "trusted": true
      },
      "outputs": [
        {
          "name": "stdout",
          "text": "(1, 0, 2, 3)\nPrint 0 index value in tuple: 1\n",
          "output_type": "stream"
        }
      ],
      "execution_count": 76
    },
    {
      "cell_type": "code",
      "source": "### Tuples do not support updating a specific index value\ntpl[0]=10",
      "metadata": {
        "trusted": true
      },
      "outputs": [
        {
          "ename": "<class 'TypeError'>",
          "evalue": "'tuple' object does not support item assignment",
          "traceback": [
            "\u001b[0;31m---------------------------------------------------------------------------\u001b[0m",
            "\u001b[0;31mTypeError\u001b[0m                                 Traceback (most recent call last)",
            "Cell \u001b[0;32mIn[77], line 2\u001b[0m\n\u001b[1;32m      1\u001b[0m \u001b[38;5;66;03m### Tuples do not support updating a specific index value\u001b[39;00m\n\u001b[0;32m----> 2\u001b[0m \u001b[43mtpl\u001b[49m\u001b[43m[\u001b[49m\u001b[38;5;241;43m0\u001b[39;49m\u001b[43m]\u001b[49m\u001b[38;5;241m=\u001b[39m\u001b[38;5;241m10\u001b[39m\n",
            "\u001b[0;31mTypeError\u001b[0m: 'tuple' object does not support item assignment"
          ],
          "output_type": "error"
        }
      ],
      "execution_count": 77
    },
    {
      "cell_type": "markdown",
      "source": "#### Dictionary\n#### Dictionary is a key value pair",
      "metadata": {}
    },
    {
      "cell_type": "code",
      "source": "### Creating an empty Dictionary\ndict1={}\nprint(\"Type: \", type(dict1))\nprint(dict1)",
      "metadata": {
        "trusted": true
      },
      "outputs": [
        {
          "name": "stdout",
          "text": "Type:  <class 'dict'>\n{}\n",
          "output_type": "stream"
        }
      ],
      "execution_count": 81
    },
    {
      "cell_type": "code",
      "source": "### Creating a dictionary with key values\ndict1={1:'Arpita', 2:'Anita', 3:'Aakash'}\nprint(\"Printing the whole dictionary: \",dict1)",
      "metadata": {
        "trusted": true
      },
      "outputs": [
        {
          "name": "stdout",
          "text": "Printing the whole dictionary:  {1: 'Arpita', 2: 'Anita', 3: 'Aakash'}\n",
          "output_type": "stream"
        }
      ],
      "execution_count": 84
    },
    {
      "cell_type": "code",
      "source": "",
      "metadata": {
        "trusted": true
      },
      "outputs": [],
      "execution_count": null
    },
    {
      "cell_type": "code",
      "source": "",
      "metadata": {
        "trusted": true
      },
      "outputs": [],
      "execution_count": null
    },
    {
      "cell_type": "code",
      "source": "",
      "metadata": {
        "trusted": true
      },
      "outputs": [],
      "execution_count": null
    }
  ]
}